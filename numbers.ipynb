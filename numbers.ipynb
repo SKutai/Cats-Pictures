{
 "cells": [
  {
   "cell_type": "code",
   "execution_count": 1,
   "metadata": {},
   "outputs": [],
   "source": [
    "import numpy as np\n",
    "import matplotlib.pyplot as plt\n",
    "import tensorflow\n",
    "from tensorflow.keras.datasets import mnist\n",
    "\n",
    "from neuralnet import *\n",
    "from layers import *\n",
    "from losses import *\n"
   ]
  },
  {
   "cell_type": "code",
   "execution_count": 2,
   "metadata": {},
   "outputs": [],
   "source": [
    "imgres = 28 # Resolution of images\n",
    "num_classes = 10\n",
    " \n",
    "# Load in the training set and the test set and convert them into data matrices\n",
    "# where each row is a different digit and a each column is a different pixel\n",
    "# out of the 28x28 = 784 pixels\n",
    "(x_train, y_train), (x_test, y_test) = mnist.load_data()\n",
    "x_train = np.array(x_train, dtype=float)/255\n",
    "x_test = np.array(x_test, dtype=float)/255\n",
    "x_train = np.reshape(x_train, (x_train.shape[0], imgres**2))\n",
    "x_test = np.reshape(x_test, (x_test.shape[0], imgres**2))\n",
    " \n",
    "# Convert the training labels to 1-hot vectors\n",
    "y_train = tensorflow.keras.utils.to_categorical(y_train, num_classes)"
   ]
  },
  {
   "cell_type": "code",
   "execution_count": 3,
   "metadata": {},
   "outputs": [
    {
     "name": "stdout",
     "output_type": "stream",
     "text": [
      "(60000, 784)\n",
      "(60000, 10)\n",
      "(10000, 784)\n",
      "(10000,)\n",
      "7 2 1 0 4 1 4 9 5 9 0 6 9 0 1 5 9 7 3 4 "
     ]
    }
   ],
   "source": [
    "print(x_train.shape)\n",
    "print(y_train.shape)\n",
    "print(x_test.shape)\n",
    "print(y_test.shape)\n",
    "for i in range(20):\n",
    "    print(y_test[i], end=\" \")\n"
   ]
  },
  {
   "cell_type": "code",
   "execution_count": 4,
   "metadata": {},
   "outputs": [],
   "source": [
    "# turn the probabilities into a 1 hot vector\n",
    "def bake(a):\n",
    "    b = np.zeros_like(a)\n",
    "    b[np.argmax(a)] = 1\n",
    "    return b"
   ]
  },
  {
   "cell_type": "code",
   "execution_count": 5,
   "metadata": {},
   "outputs": [],
   "source": [
    "nn = NeuralNet(x_train.shape[1], softmax_est_crossentropy_deriv)\n",
    "nn.add_layer(20, leaky_relu, leaky_relu_deriv)\n",
    "nn.add_layer(10, softmax, None)"
   ]
  },
  {
   "cell_type": "code",
   "execution_count": 6,
   "metadata": {},
   "outputs": [
    {
     "data": {
      "text/plain": [
       "[<matplotlib.lines.Line2D at 0x1a4cdb59a60>]"
      ]
     },
     "execution_count": 6,
     "metadata": {},
     "output_type": "execute_result"
    },
    {
     "data": {
      "image/png": "[encoded data removed]",
      "text/plain": [
       "<Figure size 432x288 with 1 Axes>"
      ]
     },
     "metadata": {
      "needs_background": "light"
     },
     "output_type": "display_data"
    }
   ],
   "source": [
    "n_iters = 60\n",
    "data = np.zeros(n_iters)\n",
    "\n",
    "for n in range(n_iters):\n",
    "    results = np.zeros_like(y_test)\n",
    "\n",
    "    # train the network\n",
    "    for k in np.random.permutation(x_train.shape[0]):\n",
    "        nn.backprop_descent(x_train[k], y_train[k])\n",
    "\n",
    "    # test the network\n",
    "    for a, t in enumerate(x_test):\n",
    "        probs = nn.forward(t)\n",
    "        # success\n",
    "        if np.argmax(probs) == y_test[a]:\n",
    "            results[a] = 1\n",
    "        # failure\n",
    "        else:\n",
    "            results[a] = 0\n",
    "\n",
    "    data[n] = np.sum(results) / results.shape[0]\n",
    "\n",
    "plt.plot(data)"
   ]
  },
  {
   "cell_type": "code",
   "execution_count": 7,
   "metadata": {},
   "outputs": [],
   "source": [
    "nn2 = NeuralNet(x_train.shape[1], softmax_est_crossentropy_deriv)\n",
    "nn2.add_layer(20, leaky_relu, leaky_relu_deriv)\n",
    "nn2.add_layer(40, leaky_relu, leaky_relu_deriv)\n",
    "nn2.add_layer(10, softmax, None)"
   ]
  },
  {
   "cell_type": "code",
   "execution_count": 8,
   "metadata": {},
   "outputs": [
    {
     "data": {
      "text/plain": [
       "[<matplotlib.lines.Line2D at 0x1a4ce2d30d0>]"
      ]
     },
     "execution_count": 8,
     "metadata": {},
     "output_type": "execute_result"
    },
    {
     "data": {
      "image/png": "[encoded data removed]",
      "text/plain": [
       "<Figure size 432x288 with 1 Axes>"
      ]
     },
     "metadata": {
      "needs_background": "light"
     },
     "output_type": "display_data"
    }
   ],
   "source": [
    "n_iters2 = 60\n",
    "data2 = np.zeros(n_iters2)\n",
    "\n",
    "for n in range(n_iters2):\n",
    "    results = np.zeros_like(y_test)\n",
    "\n",
    "    # train the network\n",
    "    for k in np.random.permutation(x_train.shape[0]):\n",
    "        nn2.backprop_descent(x_train[k], y_train[k])\n",
    "\n",
    "    # test the network\n",
    "    for a, t in enumerate(x_test):\n",
    "        probs = nn2.forward(t)\n",
    "        # success\n",
    "        if np.argmax(probs) == y_test[a]:\n",
    "            results[a] = 1\n",
    "        # failure\n",
    "        else:\n",
    "            results[a] = 0\n",
    "\n",
    "    data2[n] = np.sum(results) / results.shape[0]\n",
    "\n",
    "plt.plot(data2)"
   ]
  },
  {
   "cell_type": "markdown",
   "metadata": {},
   "source": [
    "It seems like the CNN with an extra layer becomes more accurate \"faster\" than the one that has less layers. It does run slower than the other one though. The reason for the speed decrease is because there is an extra layer of nodes to train and test. The reason for the faster convergence to a higher percent accuracy is thanks to the extra layer taking in what would have been the final output and learning from it before giving the new final output."
   ]
  }
 ],
 "metadata": {
  "interpreter": {
   "hash": "3a95692c47141d35cc7109fe59a429c07a82acb04e43600de5394b1394036ac5"
  },
  "kernelspec": {
   "display_name": "Python 3.8.8 64-bit (conda)",
   "language": "python",
   "name": "python3"
  },
  "language_info": {
   "codemirror_mode": {
    "name": "ipython",
    "version": 3
   },
   "file_extension": ".py",
   "mimetype": "text/x-python",
   "name": "python",
   "nbconvert_exporter": "python",
   "pygments_lexer": "ipython3",
   "version": "3.8.8"
  },
  "orig_nbformat": 4
 },
 "nbformat": 4,
 "nbformat_minor": 2
}
